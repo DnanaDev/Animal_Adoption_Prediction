{
 "cells": [
  {
   "cell_type": "markdown",
   "metadata": {},
   "source": [
    " ## Import Libraries"
   ]
  },
  {
   "cell_type": "code",
   "execution_count": 1,
   "metadata": {},
   "outputs": [],
   "source": [
    "import matplotlib.pyplot as plt\n",
    "import seaborn as sns\n",
    "import numpy as np \n",
    "import pandas as pd\n",
    "\n",
    "Path_train  = 'Animal_State_Prediction/train.csv'\n",
    "Path_test  = 'Animal_State_Prediction/test.csv'"
   ]
  },
  {
   "cell_type": "markdown",
   "metadata": {},
   "source": [
    "## Path to Data"
   ]
  },
  {
   "cell_type": "code",
   "execution_count": 2,
   "metadata": {},
   "outputs": [],
   "source": [
    "dtrain = pd.read_csv(Path_train)\n",
    "dtest = pd.read_csv(Path_test)"
   ]
  },
  {
   "cell_type": "markdown",
   "metadata": {},
   "source": [
    "# Part 1 - Data Wrangling/ Pre-processing/ Cleaning/Feature Engineering\n",
    "Process of converting or mapping data from original raw form into another format, preparing it for further analysis.\n",
    "1. Identifying and Handling missing values. (No need)\n",
    "2. Data Formating. (Get rid of correlated values, identify object types that needs to be converted)\n",
    "3. Data Normalization(centering and scaling).\n",
    "4. Data bining.\n",
    "5. Turning categorical values into numerical values."
   ]
  },
  {
   "cell_type": "markdown",
   "metadata": {},
   "source": [
    "\n",
    "## Categorical Columns \n",
    "1. animal_type - Cat, Dog etc is important, change to numerical\n",
    "2. age_upon_intake_age_group\n",
    "\n",
    "## Highly correlated columns\n",
    "1. age_upon_intake, age_upon_intake_days , age_upon_intake_years have all same info, keep days.\n",
    "\n",
    "## Useless columns\n",
    "1. age_upon_intake, age_upon_intake_days , age_upon_intake_years -  have all same info, keep days.\n",
    "2. count - always 1, dropped."
   ]
  },
  {
   "cell_type": "markdown",
   "metadata": {},
   "source": [
    "## Saving target variable in form of label array "
   ]
  },
  {
   "cell_type": "code",
   "execution_count": 3,
   "metadata": {},
   "outputs": [],
   "source": [
    "labels = dtrain['outcome_type'].values\n",
    "dtrain.drop(['outcome_type'], axis = 1, inplace = True)"
   ]
  },
  {
   "cell_type": "markdown",
   "metadata": {},
   "source": [
    "## concatenate both datasets and perform changes at the same time, split at time of training :\n",
    "Train - 47803 rows"
   ]
  },
  {
   "cell_type": "code",
   "execution_count": 4,
   "metadata": {},
   "outputs": [],
   "source": [
    "data = pd.concat([dtrain, dtest])"
   ]
  },
  {
   "cell_type": "markdown",
   "metadata": {},
   "source": [
    "### Fixing Column Names"
   ]
  },
  {
   "cell_type": "code",
   "execution_count": 5,
   "metadata": {},
   "outputs": [],
   "source": [
    "data.columns = data.columns.str.replace('(', '')\n",
    "data.columns = data.columns.str.replace(')', '')\n",
    "# or df.rename "
   ]
  },
  {
   "cell_type": "markdown",
   "metadata": {},
   "source": [
    "### Drop age_upon_intake object column, info in other columns"
   ]
  },
  {
   "cell_type": "code",
   "execution_count": 6,
   "metadata": {},
   "outputs": [],
   "source": [
    "data.drop(['age_upon_intake'], axis = 1, inplace=True)"
   ]
  },
  {
   "cell_type": "markdown",
   "metadata": {},
   "source": [
    "### Drop count, useless - always 1."
   ]
  },
  {
   "cell_type": "code",
   "execution_count": 7,
   "metadata": {},
   "outputs": [],
   "source": [
    "data.drop(['count'], axis = 1, inplace=True)"
   ]
  },
  {
   "cell_type": "markdown",
   "metadata": {},
   "source": [
    "### Drop age_upon_intake_years as age_upon_intake_days has same info."
   ]
  },
  {
   "cell_type": "code",
   "execution_count": 8,
   "metadata": {},
   "outputs": [],
   "source": [
    "data.drop(['age_upon_intake_years'], axis = 1, inplace = True)"
   ]
  },
  {
   "cell_type": "markdown",
   "metadata": {},
   "source": [
    "### Drop age_upon_outcome_years as age_upon_outcome_days has same info."
   ]
  },
  {
   "cell_type": "code",
   "execution_count": 9,
   "metadata": {},
   "outputs": [],
   "source": [
    "data.drop(['age_upon_outcome_years'], axis = 1, inplace = True)"
   ]
  },
  {
   "cell_type": "markdown",
   "metadata": {},
   "source": [
    "### Drop time_in_shelter object  as it has a useless type, info in other columns "
   ]
  },
  {
   "cell_type": "code",
   "execution_count": 10,
   "metadata": {},
   "outputs": [],
   "source": [
    "data.drop(['time_in_shelter'], axis = 1, inplace = True)"
   ]
  },
  {
   "cell_type": "markdown",
   "metadata": {},
   "source": [
    "### Drop intake_datetime object  as it has a useless type, info in other columns "
   ]
  },
  {
   "cell_type": "code",
   "execution_count": 11,
   "metadata": {},
   "outputs": [],
   "source": [
    "data.drop(['intake_datetime'], axis = 1, inplace = True)"
   ]
  },
  {
   "cell_type": "markdown",
   "metadata": {},
   "source": [
    "### Drop outcome_datetime as it has a useless type,  info in other columns"
   ]
  },
  {
   "cell_type": "code",
   "execution_count": 12,
   "metadata": {},
   "outputs": [],
   "source": [
    "data.drop(['outcome_datetime'], axis = 1, inplace = True)"
   ]
  },
  {
   "cell_type": "markdown",
   "metadata": {},
   "source": [
    "### Drop outcome_monthyear object as outcome month, year have same data"
   ]
  },
  {
   "cell_type": "code",
   "execution_count": 13,
   "metadata": {},
   "outputs": [],
   "source": [
    "data.drop(['outcome_monthyear'], axis = 1, inplace = True)"
   ]
  },
  {
   "cell_type": "markdown",
   "metadata": {},
   "source": [
    "### Drop date_of_birth object as age_upon_intake_days can have similar data"
   ]
  },
  {
   "cell_type": "code",
   "execution_count": 14,
   "metadata": {},
   "outputs": [],
   "source": [
    "data.drop(['date_of_birth'], axis = 1, inplace = True)"
   ]
  },
  {
   "cell_type": "markdown",
   "metadata": {},
   "source": [
    "### Drop age_upon_outcome as age_upon_outcome_days has similar data"
   ]
  },
  {
   "cell_type": "code",
   "execution_count": 15,
   "metadata": {},
   "outputs": [],
   "source": [
    "data.drop(['age_upon_outcome'], axis = 1, inplace = True)"
   ]
  },
  {
   "cell_type": "code",
   "execution_count": 16,
   "metadata": {},
   "outputs": [],
   "source": [
    "#data.to_csv('COMBINED_partially_cleaned.csv', index=False)"
   ]
  },
  {
   "cell_type": "markdown",
   "metadata": {},
   "source": [
    "### Checking Correlation "
   ]
  },
  {
   "cell_type": "code",
   "execution_count": 130,
   "metadata": {
    "scrolled": true
   },
   "outputs": [],
   "source": [
    "#sns.heatmap(data.corr(), annot =True, linewidths=0.2)\n",
    "#fig=plt.gcf()\n",
    "#fig.set_size_inches(12,12)\n",
    "#plt.show()\n"
   ]
  },
  {
   "cell_type": "markdown",
   "metadata": {},
   "source": [
    "## Feature Engineering Is absolutely Required - Adding Columns"
   ]
  },
  {
   "cell_type": "markdown",
   "metadata": {},
   "source": [
    "1. Whether animal is neutered - intact (done)\n",
    "2. Whether animal is mix - mix (done)\n",
    "3. Animal Sex - Sex (done)\n",
    "4. Weekday or Not for outcome  - Weekday (done)\n",
    "5. Simplify Color  - simplecolor (done)\n",
    "6. Simplify Breed - breed (Done)\n",
    "7. Split animal type into One hot vector- pd.get_dummies"
   ]
  },
  {
   "cell_type": "code",
   "execution_count": 18,
   "metadata": {},
   "outputs": [],
   "source": [
    "data_copy = data\n",
    "# when Continuing with feature engineering\n",
    "#data_copy = pd.read_csv('COMBINED_feature_engineered_partially_cleaned.csv')"
   ]
  },
  {
   "cell_type": "markdown",
   "metadata": {},
   "source": [
    "### 1. Whether animal is neutered - intact \n",
    "\n",
    "Filtering which animals have been neutered and spayed, label them as neutered(0) and label all else as intact(1)."
   ]
  },
  {
   "cell_type": "code",
   "execution_count": 19,
   "metadata": {},
   "outputs": [],
   "source": [
    "# dtest.loc[dtest['animal_type'] == 'Cat', 'outcome_type'] = random.choice(['Adopted','Transfer'])\n",
    "# sex_upon_outcome\n",
    "#data_copy['sex_upon_outcome'].value_counts()\n",
    "data_copy['intact'] = np.nan"
   ]
  },
  {
   "cell_type": "code",
   "execution_count": 20,
   "metadata": {},
   "outputs": [],
   "source": [
    "# Creating Filters\n",
    "nu_male = (data_copy['sex_upon_outcome'] == 'Neutered Male')\n",
    "nu_female = (data_copy['sex_upon_outcome'] == 'Spayed Female')\n",
    "in_male = (data_copy['sex_upon_outcome'] == 'Intact Male')\n",
    "in_female = (data_copy['sex_upon_outcome'] == 'Intact Female')\n",
    "\n",
    "# Applying \n",
    "data_copy.loc[nu_male,'intact'] = 0\n",
    "data_copy.loc[nu_female,'intact'] = 0\n",
    "data_copy.loc[in_male,'intact'] = 1\n",
    "data_copy.loc[in_female,'intact'] = 1"
   ]
  },
  {
   "cell_type": "markdown",
   "metadata": {},
   "source": [
    "#### Since mean is closer to neutered i.e. most animals are neutered, unknown are also neutered"
   ]
  },
  {
   "cell_type": "code",
   "execution_count": 21,
   "metadata": {},
   "outputs": [],
   "source": [
    "data['intact'].mean(axis = 0)\n",
    "data_copy['intact'].replace(np.nan, 0, inplace = True)"
   ]
  },
  {
   "cell_type": "markdown",
   "metadata": {},
   "source": [
    "### 3. Animal Sex - sex\n",
    "0 - Male, 1 - Female"
   ]
  },
  {
   "cell_type": "code",
   "execution_count": 26,
   "metadata": {},
   "outputs": [],
   "source": [
    "data_copy['sex'] = np.nan\n",
    "\n",
    "# Creating Filters\n",
    "male = (data_copy['sex_upon_outcome'] == 'Neutered Male')\n",
    "male_1 = (data_copy['sex_upon_outcome'] == 'Intact Male')\n",
    "female = (data_copy['sex_upon_outcome'] == 'Spayed Female')\n",
    "female_1 = (data_copy['sex_upon_outcome'] == 'Intact Female')\n",
    "\n",
    "# Applying Filters \n",
    "data_copy.loc[male_1,'sex'] = 0\n",
    "data_copy.loc[male,'sex'] = 0\n",
    "data_copy.loc[female_1,'sex'] = 1\n",
    "data_copy.loc[female,'sex'] = 1"
   ]
  },
  {
   "cell_type": "code",
   "execution_count": 27,
   "metadata": {},
   "outputs": [],
   "source": [
    "data['sex'].mean(axis = 0)\n",
    "data_copy['sex'].replace(np.nan, 0, inplace = True)"
   ]
  },
  {
   "cell_type": "code",
   "execution_count": 28,
   "metadata": {},
   "outputs": [
    {
     "data": {
      "text/plain": [
       "0.0    44815\n",
       "1.0    34857\n",
       "Name: sex, dtype: int64"
      ]
     },
     "execution_count": 28,
     "metadata": {},
     "output_type": "execute_result"
    }
   ],
   "source": [
    "data_copy['sex'].value_counts()"
   ]
  },
  {
   "cell_type": "markdown",
   "metadata": {},
   "source": [
    "### 2. Whether animal is mix - mix\n",
    "1 - mix\n",
    "0 - not mix"
   ]
  },
  {
   "cell_type": "code",
   "execution_count": 32,
   "metadata": {},
   "outputs": [],
   "source": [
    "data_copy['mix'] = np.nan\n",
    "#data_copy.breed.value_counts()\n",
    "## 2155 Different breeds"
   ]
  },
  {
   "cell_type": "code",
   "execution_count": 33,
   "metadata": {},
   "outputs": [],
   "source": [
    "# create filter \n",
    "mix_breed = (data_copy['breed'].str.contains(\"Mix\"))\n",
    "data_copy.loc[mix_breed,'mix'] = 1\n",
    "data_copy['mix'].replace(np.nan, 0, inplace = True)"
   ]
  },
  {
   "cell_type": "markdown",
   "metadata": {},
   "source": [
    "### 4. Weekday or Not for outcome  - Weekday\n",
    "1 = for Monday,...Friday\n",
    "0 = for Saturday, Sunday "
   ]
  },
  {
   "cell_type": "code",
   "execution_count": 37,
   "metadata": {},
   "outputs": [],
   "source": [
    "data_copy['weekday'] = np.nan"
   ]
  },
  {
   "cell_type": "code",
   "execution_count": 38,
   "metadata": {},
   "outputs": [],
   "source": [
    "#data_copy['outcome_weekday'].value_counts()"
   ]
  },
  {
   "cell_type": "code",
   "execution_count": 39,
   "metadata": {},
   "outputs": [],
   "source": [
    "# create filters\n",
    "\n",
    "mon = (data_copy['outcome_weekday'] == 'Monday')\n",
    "tue = (data_copy['outcome_weekday'] == 'Tuesday')\n",
    "wed = (data_copy['outcome_weekday'] == 'Wednesday')\n",
    "thurs = (data_copy['outcome_weekday'] == 'Thursday')\n",
    "fri = (data_copy['outcome_weekday'] == 'Friday')\n",
    "sat = (data_copy['outcome_weekday'] == 'Saturday')\n",
    "sun = (data_copy['outcome_weekday'] == 'Sunday')"
   ]
  },
  {
   "cell_type": "code",
   "execution_count": 40,
   "metadata": {},
   "outputs": [],
   "source": [
    "data_copy.loc[mon,'weekday'] = 1\n",
    "data_copy.loc[tue,'weekday'] = 1\n",
    "data_copy.loc[wed,'weekday'] = 1\n",
    "data_copy.loc[thurs,'weekday'] = 1\n",
    "data_copy.loc[fri,'weekday'] = 1\n",
    "data_copy.loc[sat,'weekday'] = 0\n",
    "data_copy.loc[sun,'weekday'] = 0"
   ]
  },
  {
   "cell_type": "markdown",
   "metadata": {},
   "source": [
    "### 5. Simplify Color  - simplecolor\n",
    "Color is split into into only first string."
   ]
  },
  {
   "cell_type": "code",
   "execution_count": 43,
   "metadata": {},
   "outputs": [],
   "source": [
    "data_copy_1 = data_copy['color']"
   ]
  },
  {
   "cell_type": "code",
   "execution_count": 44,
   "metadata": {},
   "outputs": [],
   "source": [
    "# df2 = pd.DataFrame(df1.State.str.split().tolist(), columns=\"State State_code\".split())\n",
    "\n",
    "df2 = pd.DataFrame(data_copy_1.str.split(pat = '/').tolist(), columns='prim_color sec_color'.split())"
   ]
  },
  {
   "cell_type": "code",
   "execution_count": 45,
   "metadata": {},
   "outputs": [],
   "source": [
    "df3 = df2['prim_color']"
   ]
  },
  {
   "cell_type": "code",
   "execution_count": 46,
   "metadata": {},
   "outputs": [],
   "source": [
    "df4 = pd.DataFrame(df3.str.split(pat = ' ').tolist(), columns='prim_color sec_color ter_color'.split())"
   ]
  },
  {
   "cell_type": "code",
   "execution_count": 47,
   "metadata": {},
   "outputs": [],
   "source": [
    "# copying back to data\n",
    "\n",
    "data_copy['color'] = df4['prim_color']"
   ]
  },
  {
   "cell_type": "code",
   "execution_count": 52,
   "metadata": {},
   "outputs": [],
   "source": [
    "#data_copy.color.value_counts()"
   ]
  },
  {
   "cell_type": "markdown",
   "metadata": {},
   "source": [
    "#### Contuing Feature Engineering, Dropping rows taht are highly correlated"
   ]
  },
  {
   "cell_type": "code",
   "execution_count": 53,
   "metadata": {},
   "outputs": [],
   "source": [
    "data_copy.drop(['outcome_number'], axis = 1, inplace = True)"
   ]
  },
  {
   "cell_type": "code",
   "execution_count": 54,
   "metadata": {},
   "outputs": [],
   "source": [
    "data_copy.drop(['intake_hour'], axis = 1, inplace = True)"
   ]
  },
  {
   "cell_type": "code",
   "execution_count": 55,
   "metadata": {},
   "outputs": [],
   "source": [
    "data_copy.drop(['dob_year'], axis = 1, inplace = True)"
   ]
  },
  {
   "cell_type": "code",
   "execution_count": 56,
   "metadata": {},
   "outputs": [],
   "source": [
    "data_copy.drop(['dob_month'], axis = 1, inplace = True)"
   ]
  },
  {
   "cell_type": "code",
   "execution_count": 57,
   "metadata": {},
   "outputs": [],
   "source": [
    "data_copy.drop(['intake_month'], axis = 1, inplace = True)"
   ]
  },
  {
   "cell_type": "code",
   "execution_count": 58,
   "metadata": {},
   "outputs": [],
   "source": [
    "data_copy.drop(['intake_year'], axis = 1, inplace = True)"
   ]
  },
  {
   "cell_type": "code",
   "execution_count": 59,
   "metadata": {},
   "outputs": [],
   "source": [
    "data_copy.drop(['age_upon_intake_days'], axis = 1, inplace = True)"
   ]
  },
  {
   "cell_type": "markdown",
   "metadata": {},
   "source": [
    "## Converting animal_type to One-Hot Vector and Correlation"
   ]
  },
  {
   "cell_type": "code",
   "execution_count": 60,
   "metadata": {},
   "outputs": [],
   "source": [
    "data_copy = pd.get_dummies(data_copy, columns = ['animal_type'])"
   ]
  },
  {
   "cell_type": "code",
   "execution_count": 61,
   "metadata": {},
   "outputs": [
    {
     "data": {
      "image/png": "[encoded data removed]",
      "text/plain": [
       "<Figure size 1152x1152 with 2 Axes>"
      ]
     },
     "metadata": {
      "needs_background": "light"
     },
     "output_type": "display_data"
    }
   ],
   "source": [
    "sns.heatmap(data=data_copy.corr(), annot = True, linewidths=0.2)\n",
    "fig = plt.gcf()\n",
    "fig.set_size_inches(16,16)\n",
    "plt.show()"
   ]
  },
  {
   "cell_type": "code",
   "execution_count": 62,
   "metadata": {},
   "outputs": [],
   "source": [
    "data_copy.to_csv('COMBINED_feature_engineered_partially_cleaned.csv', index=False)"
   ]
  },
  {
   "cell_type": "markdown",
   "metadata": {},
   "source": [
    "# Part 2 - Modelling "
   ]
  },
  {
   "cell_type": "markdown",
   "metadata": {},
   "source": [
    "<h2>1. Baseline models- 1. Every dog gets adopted, and 2. Dogs randomly returned or adopted, cats randomly transfered or Adopted. Rest Euthanasia </h2>\n",
    "Gives F1 score of 15.72, 15.82 <br>\n",
    "Clearly just feature engineering will not result in a good F1 Score  \n",
    "\n",
    "<h2> 2. Using Decision Tree with GridSearchCV optimised parameters</h2>\n",
    "F1 score of 47.67.\n",
    "\n",
    "<h2>3. Random Forrest </h2>\n",
    "With 100 estimators and max_depth = 8, gives 57% and 54% accuracy. <br>\n",
    "F1 score 49.99\n",
    "\n",
    "<h2> 4. XGBoost - Gradient boosted tree ensemble</h2>\n",
    "F1 score 49.54\n",
    "\n",
    "<h2> 5. Quick attempt for ANN </h2>\n",
    "Problem, features not normalized. Using batch normalization layer before first Dense layer to normalize input.\n",
    "F1 score 46.35"
   ]
  },
  {
   "cell_type": "markdown",
   "metadata": {},
   "source": [
    "### Splitting back into train, test set "
   ]
  },
  {
   "cell_type": "code",
   "execution_count": 63,
   "metadata": {},
   "outputs": [],
   "source": [
    "# labels = dtrain['outcome_type'].values\n",
    "data_train = data_copy.iloc[0:47803]\n",
    "data_test = data_copy.iloc[47803:]"
   ]
  },
  {
   "cell_type": "markdown",
   "metadata": {},
   "source": [
    "### Encoding Labels "
   ]
  },
  {
   "cell_type": "code",
   "execution_count": 64,
   "metadata": {},
   "outputs": [],
   "source": [
    "from sklearn.preprocessing import LabelEncoder\n",
    "from sklearn.model_selection import train_test_split\n",
    "\n",
    "le = LabelEncoder()\n",
    "le.fit(labels)\n",
    "enc_labels = le.transform(labels)"
   ]
  },
  {
   "cell_type": "code",
   "execution_count": 65,
   "metadata": {},
   "outputs": [
    {
     "name": "stdout",
     "output_type": "stream",
     "text": [
      "{'Adoption': 0, 'Died': 1, 'Disposal': 2, 'Euthanasia': 3, 'Missing': 4, 'Relocate': 5, 'Return to Owner': 6, 'Rto-Adopt': 7, 'Transfer': 8}\n"
     ]
    }
   ],
   "source": [
    "# Getting this encoding \n",
    "le_name_mapping = dict(zip(le.classes_, le.transform(le.classes_)))\n",
    "print(le_name_mapping)"
   ]
  },
  {
   "cell_type": "markdown",
   "metadata": {},
   "source": [
    "### Taking in only numeric columns"
   ]
  },
  {
   "cell_type": "code",
   "execution_count": 66,
   "metadata": {},
   "outputs": [],
   "source": [
    "data_train_new = data_train._get_numeric_data()\n",
    "data_test_new = data_test._get_numeric_data()"
   ]
  },
  {
   "cell_type": "code",
   "execution_count": 67,
   "metadata": {},
   "outputs": [],
   "source": [
    "# For ANN\n",
    "dataset_test = data_test_new.values\n",
    "y = dataset_test[:,:].astype(float)\n",
    "\n",
    "dataset = data_train_new.values\n",
    "x = dataset[:,:].astype(float)"
   ]
  },
  {
   "cell_type": "markdown",
   "metadata": {},
   "source": [
    "## 2. Decision Tree\n",
    "\n",
    "### Results \n",
    "Using GridSearchCV,optimised max_depth of 10.Both insample and test accuracy of 54%. F1 score of 47.67.<br>"
   ]
  },
  {
   "cell_type": "code",
   "execution_count": 68,
   "metadata": {},
   "outputs": [
    {
     "data": {
      "text/plain": [
       "0.6003598100537623"
      ]
     },
     "execution_count": 68,
     "metadata": {},
     "output_type": "execute_result"
    }
   ],
   "source": [
    "from sklearn.tree import DecisionTreeClassifier\n",
    "from sklearn.model_selection import cross_val_score\n",
    "from sklearn.model_selection import cross_val_predict\n",
    "\n",
    "\n",
    "clf = DecisionTreeClassifier(max_depth=10)\n",
    "clf.fit(data_train_new, enc_labels)\n",
    "clf.score(data_train_new, enc_labels)"
   ]
  },
  {
   "cell_type": "markdown",
   "metadata": {},
   "source": [
    "#### Cross validation of scores "
   ]
  },
  {
   "cell_type": "code",
   "execution_count": 70,
   "metadata": {},
   "outputs": [
    {
     "name": "stdout",
     "output_type": "stream",
     "text": [
      "The mean of scores is and the standard deviation is 0.5565580567994692 0.035525033499821605\n"
     ]
    }
   ],
   "source": [
    "scores = cross_val_score(clf, data_train_new, enc_labels, cv= 20)\n",
    "print('The mean of scores is and the standard deviation is', np.mean(scores) , np.std(scores))"
   ]
  },
  {
   "cell_type": "markdown",
   "metadata": {},
   "source": [
    "#### Checking scores on test- train sets "
   ]
  },
  {
   "cell_type": "code",
   "execution_count": 71,
   "metadata": {},
   "outputs": [],
   "source": [
    "x_train, x_test, y_train, y_test = train_test_split(data_train_new, enc_labels, test_size =0.33, random_state = 42, stratify = enc_labels)"
   ]
  },
  {
   "cell_type": "code",
   "execution_count": 72,
   "metadata": {},
   "outputs": [
    {
     "data": {
      "text/plain": [
       "DecisionTreeClassifier(ccp_alpha=0.0, class_weight=None, criterion='gini',\n",
       "                       max_depth=10, max_features=None, max_leaf_nodes=None,\n",
       "                       min_impurity_decrease=0.0, min_impurity_split=None,\n",
       "                       min_samples_leaf=1, min_samples_split=2,\n",
       "                       min_weight_fraction_leaf=0.0, presort='deprecated',\n",
       "                       random_state=None, splitter='best')"
      ]
     },
     "execution_count": 72,
     "metadata": {},
     "output_type": "execute_result"
    }
   ],
   "source": [
    "clf = DecisionTreeClassifier(max_depth=10)\n",
    "clf.fit(x_train, y_train)"
   ]
  },
  {
   "cell_type": "code",
   "execution_count": 73,
   "metadata": {},
   "outputs": [
    {
     "data": {
      "text/plain": [
       "0.605314100162358"
      ]
     },
     "execution_count": 73,
     "metadata": {},
     "output_type": "execute_result"
    }
   ],
   "source": [
    "clf.score(x_train,y_train)"
   ]
  },
  {
   "cell_type": "code",
   "execution_count": 74,
   "metadata": {},
   "outputs": [
    {
     "data": {
      "text/plain": [
       "0.5662123613312203"
      ]
     },
     "execution_count": 74,
     "metadata": {},
     "output_type": "execute_result"
    }
   ],
   "source": [
    "clf.score(x_test,y_test)"
   ]
  },
  {
   "cell_type": "markdown",
   "metadata": {},
   "source": [
    "### Feature Importance for tree"
   ]
  },
  {
   "cell_type": "code",
   "execution_count": 75,
   "metadata": {},
   "outputs": [
    {
     "data": {
      "text/html": [
       "<div>\n",
       "<style scoped>\n",
       "    .dataframe tbody tr th:only-of-type {\n",
       "        vertical-align: middle;\n",
       "    }\n",
       "\n",
       "    .dataframe tbody tr th {\n",
       "        vertical-align: top;\n",
       "    }\n",
       "\n",
       "    .dataframe thead th {\n",
       "        text-align: right;\n",
       "    }\n",
       "</style>\n",
       "<table border=\"1\" class=\"dataframe\">\n",
       "  <thead>\n",
       "    <tr style=\"text-align: right;\">\n",
       "      <th></th>\n",
       "      <th>feature</th>\n",
       "      <th>importance</th>\n",
       "    </tr>\n",
       "  </thead>\n",
       "  <tbody>\n",
       "    <tr>\n",
       "      <th>1</th>\n",
       "      <td>time_in_shelter_days</td>\n",
       "      <td>0.331969</td>\n",
       "    </tr>\n",
       "    <tr>\n",
       "      <th>12</th>\n",
       "      <td>animal_type_Dog</td>\n",
       "      <td>0.167508</td>\n",
       "    </tr>\n",
       "    <tr>\n",
       "      <th>2</th>\n",
       "      <td>age_upon_outcome_days</td>\n",
       "      <td>0.148544</td>\n",
       "    </tr>\n",
       "    <tr>\n",
       "      <th>6</th>\n",
       "      <td>intact</td>\n",
       "      <td>0.091575</td>\n",
       "    </tr>\n",
       "    <tr>\n",
       "      <th>13</th>\n",
       "      <td>animal_type_Other</td>\n",
       "      <td>0.091349</td>\n",
       "    </tr>\n",
       "    <tr>\n",
       "      <th>5</th>\n",
       "      <td>outcome_hour</td>\n",
       "      <td>0.086872</td>\n",
       "    </tr>\n",
       "    <tr>\n",
       "      <th>0</th>\n",
       "      <td>intake_number</td>\n",
       "      <td>0.023645</td>\n",
       "    </tr>\n",
       "    <tr>\n",
       "      <th>9</th>\n",
       "      <td>weekday</td>\n",
       "      <td>0.016229</td>\n",
       "    </tr>\n",
       "    <tr>\n",
       "      <th>3</th>\n",
       "      <td>outcome_month</td>\n",
       "      <td>0.015972</td>\n",
       "    </tr>\n",
       "    <tr>\n",
       "      <th>4</th>\n",
       "      <td>outcome_year</td>\n",
       "      <td>0.012278</td>\n",
       "    </tr>\n",
       "    <tr>\n",
       "      <th>11</th>\n",
       "      <td>animal_type_Cat</td>\n",
       "      <td>0.004350</td>\n",
       "    </tr>\n",
       "    <tr>\n",
       "      <th>7</th>\n",
       "      <td>sex</td>\n",
       "      <td>0.004185</td>\n",
       "    </tr>\n",
       "    <tr>\n",
       "      <th>8</th>\n",
       "      <td>mix</td>\n",
       "      <td>0.003420</td>\n",
       "    </tr>\n",
       "    <tr>\n",
       "      <th>10</th>\n",
       "      <td>animal_type_Bird</td>\n",
       "      <td>0.002104</td>\n",
       "    </tr>\n",
       "  </tbody>\n",
       "</table>\n",
       "</div>"
      ],
      "text/plain": [
       "                  feature  importance\n",
       "1    time_in_shelter_days    0.331969\n",
       "12        animal_type_Dog    0.167508\n",
       "2   age_upon_outcome_days    0.148544\n",
       "6                  intact    0.091575\n",
       "13      animal_type_Other    0.091349\n",
       "5            outcome_hour    0.086872\n",
       "0           intake_number    0.023645\n",
       "9                 weekday    0.016229\n",
       "3           outcome_month    0.015972\n",
       "4            outcome_year    0.012278\n",
       "11        animal_type_Cat    0.004350\n",
       "7                     sex    0.004185\n",
       "8                     mix    0.003420\n",
       "10       animal_type_Bird    0.002104"
      ]
     },
     "execution_count": 75,
     "metadata": {},
     "output_type": "execute_result"
    }
   ],
   "source": [
    "fi = pd.DataFrame({'feature': list(data_train_new.columns),\n",
    "                   'importance': clf.feature_importances_}).\\\n",
    "                    sort_values('importance', ascending = False)\n",
    "fi.head(20)"
   ]
  },
  {
   "cell_type": "markdown",
   "metadata": {},
   "source": [
    "### Checking overfitting"
   ]
  },
  {
   "cell_type": "code",
   "execution_count": 76,
   "metadata": {
    "scrolled": true
   },
   "outputs": [
    {
     "name": "stdout",
     "output_type": "stream",
     "text": [
      "[0.38609966 0.48217185 0.5268515  0.53228425 0.5410266  0.55704384\n",
      " 0.56781566 0.57633945 0.59129512 0.60534532 0.61970776 0.64065817\n",
      " 0.66345073 0.68836643 0.71940177 0.75074934 0.78197202 0.8131947\n",
      " 0.84357437]\n",
      "[0.39340729 0.49153724 0.53337559 0.5377496  0.53762282 0.55435816\n",
      " 0.56107765 0.56412044 0.5666561  0.56627575 0.56101426 0.55442155\n",
      " 0.54744849 0.53496038 0.52323296 0.50916006 0.50028526 0.48690967\n",
      " 0.47340729]\n"
     ]
    },
    {
     "data": {
      "image/png": "[encoded data removed]",
      "text/plain": [
       "<Figure size 576x432 with 1 Axes>"
      ]
     },
     "metadata": {
      "needs_background": "light"
     },
     "output_type": "display_data"
    }
   ],
   "source": [
    "# Iterating over max_depth from 1 to n and plotting the accuracy of the model on the test set\n",
    "\n",
    "dep = np.arange(1,20)\n",
    "\n",
    "train_accuracy = np.empty(len(dep))    # Members not zero ? floats ?\n",
    "test_accuracy = np.empty(len(dep))\n",
    "\n",
    "for i,k in enumerate(dep):\n",
    "    # Define decision tree\n",
    "    clf_2 = DecisionTreeClassifier(max_depth = k)\n",
    "    # Fit the classifier to training data.\n",
    "    clf_2.fit(x_train,y_train)\n",
    "    \n",
    "    # Compute accuracy on train set\n",
    "    \n",
    "    train_accuracy[i] = clf_2.score(x_train,y_train)\n",
    "    \n",
    "    # Compute accuracy on test set\n",
    "    \n",
    "    test_accuracy[i]  = clf_2.score(x_test,y_test)\n",
    "    \n",
    "print(train_accuracy)\n",
    "print(test_accuracy)\n",
    "\n",
    "\n",
    "# Plotting this train and test accuracy.\n",
    "plt.figure(figsize=(8,6))\n",
    "plt.title('clf: Varying depth of DecisionTreeClassifier to check overfitting')\n",
    "plt.plot(dep, train_accuracy, label = 'Training Accuracy')\n",
    "plt.plot(dep, test_accuracy, label = 'Testing Accuracy')\n",
    "plt.legend()\n",
    "plt.xlabel('Depth of Tree')\n",
    "plt.ylabel('Accuracy')\n",
    "plt.show()"
   ]
  },
  {
   "cell_type": "markdown",
   "metadata": {},
   "source": [
    "### Making Predictions and Saving"
   ]
  },
  {
   "cell_type": "code",
   "execution_count": 77,
   "metadata": {},
   "outputs": [],
   "source": [
    "yhat_tree = clf.predict(y)\n",
    "res_tree = le.inverse_transform(yhat_tree)"
   ]
  },
  {
   "cell_type": "code",
   "execution_count": 78,
   "metadata": {},
   "outputs": [
    {
     "data": {
      "text/plain": [
       "(31869,)"
      ]
     },
     "execution_count": 78,
     "metadata": {},
     "output_type": "execute_result"
    }
   ],
   "source": [
    "res_tree.shape"
   ]
  },
  {
   "cell_type": "code",
   "execution_count": 79,
   "metadata": {},
   "outputs": [
    {
     "name": "stderr",
     "output_type": "stream",
     "text": [
      "/Library/Frameworks/Python.framework/Versions/3.6/lib/python3.6/site-packages/ipykernel_launcher.py:2: SettingWithCopyWarning: \n",
      "A value is trying to be set on a copy of a slice from a DataFrame.\n",
      "Try using .loc[row_indexer,col_indexer] = value instead\n",
      "\n",
      "See the caveats in the documentation: https://pandas.pydata.org/pandas-docs/stable/user_guide/indexing.html#returning-a-view-versus-a-copy\n",
      "  \n"
     ]
    }
   ],
   "source": [
    "dnew_tree = data_test\n",
    "dnew_tree['outcome_type'] = res_tree\n",
    "dnew_tree[['animal_id_outcome','outcome_type']].to_csv('model_2_tree_d_10.csv', index = False)"
   ]
  },
  {
   "cell_type": "markdown",
   "metadata": {},
   "source": [
    "## 3. Using Random Forest Classifier\n",
    "With 100 estimators and max_depth = 8, gives 57% and 54% accuracy. <br>\n",
    "F1 score 49.99"
   ]
  },
  {
   "cell_type": "code",
   "execution_count": 80,
   "metadata": {},
   "outputs": [
    {
     "data": {
      "text/plain": [
       "RandomForestClassifier(bootstrap=True, ccp_alpha=0.0, class_weight=None,\n",
       "                       criterion='gini', max_depth=8, max_features='sqrt',\n",
       "                       max_leaf_nodes=None, max_samples=None,\n",
       "                       min_impurity_decrease=0.0, min_impurity_split=None,\n",
       "                       min_samples_leaf=1, min_samples_split=2,\n",
       "                       min_weight_fraction_leaf=0.0, n_estimators=100,\n",
       "                       n_jobs=None, oob_score=False, random_state=None,\n",
       "                       verbose=0, warm_start=False)"
      ]
     },
     "execution_count": 80,
     "metadata": {},
     "output_type": "execute_result"
    }
   ],
   "source": [
    "from sklearn.ensemble import RandomForestClassifier\n",
    "\n",
    "# Create the model with 100 trees\n",
    "model = RandomForestClassifier(n_estimators=100, \n",
    "                               bootstrap = True,\n",
    "                               max_features = 'sqrt',\n",
    "                              max_depth = 8)\n",
    "# Fit on training data\n",
    "model.fit(data_train_new, enc_labels)"
   ]
  },
  {
   "cell_type": "code",
   "execution_count": 81,
   "metadata": {},
   "outputs": [],
   "source": [
    "y_train_pred = model.predict(x_train)\n",
    "\n",
    "compare = pd.DataFrame({'Y_train': y_train, 'Y_train_pred': y_train_pred})"
   ]
  },
  {
   "cell_type": "markdown",
   "metadata": {},
   "source": [
    "#### Find correlation between y_train and predicted values on train data."
   ]
  },
  {
   "cell_type": "code",
   "execution_count": 82,
   "metadata": {},
   "outputs": [
    {
     "data": {
      "text/plain": [
       "0.48186637239887975"
      ]
     },
     "execution_count": 82,
     "metadata": {},
     "output_type": "execute_result"
    }
   ],
   "source": [
    "compare['Y_train'].corr(compare['Y_train_pred'])"
   ]
  },
  {
   "cell_type": "markdown",
   "metadata": {},
   "source": [
    "#### Model Scores"
   ]
  },
  {
   "cell_type": "code",
   "execution_count": 83,
   "metadata": {},
   "outputs": [
    {
     "data": {
      "text/plain": [
       "0.5756960860197059"
      ]
     },
     "execution_count": 83,
     "metadata": {},
     "output_type": "execute_result"
    }
   ],
   "source": [
    "model.score(data_train_new, enc_labels)"
   ]
  },
  {
   "cell_type": "code",
   "execution_count": 84,
   "metadata": {},
   "outputs": [
    {
     "data": {
      "text/plain": [
       "0.5758478605388273"
      ]
     },
     "execution_count": 84,
     "metadata": {},
     "output_type": "execute_result"
    }
   ],
   "source": [
    "model.fit(x_train, y_train)\n",
    "model.score(x_test, y_test)"
   ]
  },
  {
   "cell_type": "code",
   "execution_count": 85,
   "metadata": {},
   "outputs": [],
   "source": [
    "yhat_rf = model.predict(y)\n",
    "Yhat_rf_res = le.inverse_transform(yhat_rf)"
   ]
  },
  {
   "cell_type": "code",
   "execution_count": 87,
   "metadata": {},
   "outputs": [
    {
     "name": "stderr",
     "output_type": "stream",
     "text": [
      "/Library/Frameworks/Python.framework/Versions/3.6/lib/python3.6/site-packages/ipykernel_launcher.py:2: SettingWithCopyWarning: \n",
      "A value is trying to be set on a copy of a slice from a DataFrame.\n",
      "Try using .loc[row_indexer,col_indexer] = value instead\n",
      "\n",
      "See the caveats in the documentation: https://pandas.pydata.org/pandas-docs/stable/user_guide/indexing.html#returning-a-view-versus-a-copy\n",
      "  \n"
     ]
    }
   ],
   "source": [
    "dnew_rf = data_test\n",
    "dnew_rf['outcome_type'] = Yhat_rf_res\n",
    "dnew_rf[['animal_id_outcome','outcome_type']].to_csv('model_3_CV_RF_d_10.csv', index = False)"
   ]
  },
  {
   "cell_type": "markdown",
   "metadata": {},
   "source": [
    "#### Feature Importance"
   ]
  },
  {
   "cell_type": "code",
   "execution_count": 90,
   "metadata": {},
   "outputs": [
    {
     "data": {
      "text/html": [
       "<div>\n",
       "<style scoped>\n",
       "    .dataframe tbody tr th:only-of-type {\n",
       "        vertical-align: middle;\n",
       "    }\n",
       "\n",
       "    .dataframe tbody tr th {\n",
       "        vertical-align: top;\n",
       "    }\n",
       "\n",
       "    .dataframe thead th {\n",
       "        text-align: right;\n",
       "    }\n",
       "</style>\n",
       "<table border=\"1\" class=\"dataframe\">\n",
       "  <thead>\n",
       "    <tr style=\"text-align: right;\">\n",
       "      <th></th>\n",
       "      <th>feature</th>\n",
       "      <th>importance</th>\n",
       "    </tr>\n",
       "  </thead>\n",
       "  <tbody>\n",
       "    <tr>\n",
       "      <th>1</th>\n",
       "      <td>time_in_shelter_days</td>\n",
       "      <td>0.333666</td>\n",
       "    </tr>\n",
       "    <tr>\n",
       "      <th>2</th>\n",
       "      <td>age_upon_outcome_days</td>\n",
       "      <td>0.147155</td>\n",
       "    </tr>\n",
       "    <tr>\n",
       "      <th>6</th>\n",
       "      <td>intact</td>\n",
       "      <td>0.133084</td>\n",
       "    </tr>\n",
       "    <tr>\n",
       "      <th>13</th>\n",
       "      <td>animal_type_Other</td>\n",
       "      <td>0.097209</td>\n",
       "    </tr>\n",
       "    <tr>\n",
       "      <th>12</th>\n",
       "      <td>animal_type_Dog</td>\n",
       "      <td>0.083171</td>\n",
       "    </tr>\n",
       "    <tr>\n",
       "      <th>5</th>\n",
       "      <td>outcome_hour</td>\n",
       "      <td>0.066376</td>\n",
       "    </tr>\n",
       "    <tr>\n",
       "      <th>11</th>\n",
       "      <td>animal_type_Cat</td>\n",
       "      <td>0.060835</td>\n",
       "    </tr>\n",
       "    <tr>\n",
       "      <th>0</th>\n",
       "      <td>intake_number</td>\n",
       "      <td>0.024544</td>\n",
       "    </tr>\n",
       "    <tr>\n",
       "      <th>9</th>\n",
       "      <td>weekday</td>\n",
       "      <td>0.015291</td>\n",
       "    </tr>\n",
       "    <tr>\n",
       "      <th>4</th>\n",
       "      <td>outcome_year</td>\n",
       "      <td>0.012374</td>\n",
       "    </tr>\n",
       "    <tr>\n",
       "      <th>3</th>\n",
       "      <td>outcome_month</td>\n",
       "      <td>0.011235</td>\n",
       "    </tr>\n",
       "    <tr>\n",
       "      <th>7</th>\n",
       "      <td>sex</td>\n",
       "      <td>0.008219</td>\n",
       "    </tr>\n",
       "    <tr>\n",
       "      <th>8</th>\n",
       "      <td>mix</td>\n",
       "      <td>0.004555</td>\n",
       "    </tr>\n",
       "    <tr>\n",
       "      <th>10</th>\n",
       "      <td>animal_type_Bird</td>\n",
       "      <td>0.002286</td>\n",
       "    </tr>\n",
       "  </tbody>\n",
       "</table>\n",
       "</div>"
      ],
      "text/plain": [
       "                  feature  importance\n",
       "1    time_in_shelter_days    0.333666\n",
       "2   age_upon_outcome_days    0.147155\n",
       "6                  intact    0.133084\n",
       "13      animal_type_Other    0.097209\n",
       "12        animal_type_Dog    0.083171\n",
       "5            outcome_hour    0.066376\n",
       "11        animal_type_Cat    0.060835\n",
       "0           intake_number    0.024544\n",
       "9                 weekday    0.015291\n",
       "4            outcome_year    0.012374\n",
       "3           outcome_month    0.011235\n",
       "7                     sex    0.008219\n",
       "8                     mix    0.004555\n",
       "10       animal_type_Bird    0.002286"
      ]
     },
     "execution_count": 90,
     "metadata": {},
     "output_type": "execute_result"
    }
   ],
   "source": [
    "fi = pd.DataFrame({'feature': list(data_train_new.columns),\n",
    "                   'importance': model.feature_importances_}).\\\n",
    "                    sort_values('importance', ascending = False)\n",
    "fi.head(20)"
   ]
  },
  {
   "cell_type": "markdown",
   "metadata": {},
   "source": [
    "# 4. Using XGBoost for gradient boosting ensemble of trees \n",
    "Gives 49.54 F1 Score. Less than RF."
   ]
  },
  {
   "cell_type": "code",
   "execution_count": 91,
   "metadata": {},
   "outputs": [],
   "source": [
    "from xgboost import XGBClassifier"
   ]
  },
  {
   "cell_type": "code",
   "execution_count": 92,
   "metadata": {},
   "outputs": [],
   "source": [
    "x_train, x_test, y_train, y_test = train_test_split(data_train_new, enc_labels, test_size =0.2, stratify = enc_labels)"
   ]
  },
  {
   "cell_type": "code",
   "execution_count": 93,
   "metadata": {},
   "outputs": [
    {
     "data": {
      "text/plain": [
       "XGBClassifier(base_score=0.5, booster=None, colsample_bylevel=1,\n",
       "              colsample_bynode=1, colsample_bytree=1, gamma=0, gpu_id=-1,\n",
       "              importance_type='gain', interaction_constraints=None,\n",
       "              learning_rate=0.5, max_delta_step=0, max_depth=8,\n",
       "              min_child_weight=1, missing=nan, monotone_constraints=None,\n",
       "              n_estimators=100, n_jobs=0, num_parallel_tree=1,\n",
       "              objective='multi:softprob', random_state=0, reg_alpha=0,\n",
       "              reg_lambda=1, scale_pos_weight=None, subsample=1,\n",
       "              tree_method=None, validate_parameters=False, verbosity=None)"
      ]
     },
     "execution_count": 93,
     "metadata": {},
     "output_type": "execute_result"
    }
   ],
   "source": [
    "# fit model to training data\n",
    "model = XGBClassifier(n_estimators=100, learning_rate=0.5, gamma=0, max_depth=8)\n",
    "model.fit(x_train, y_train)"
   ]
  },
  {
   "cell_type": "code",
   "execution_count": 94,
   "metadata": {},
   "outputs": [],
   "source": [
    "y_pred = model.predict(x_test)\n",
    "predictions = [round(value) for value in y_pred]"
   ]
  },
  {
   "cell_type": "code",
   "execution_count": 95,
   "metadata": {},
   "outputs": [
    {
     "name": "stdout",
     "output_type": "stream",
     "text": [
      "Precision = 0.39982384535608034\n",
      "Recall = 0.3846471282482621\n",
      "Accuracy = 0.578914339504236\n",
      "F1 Score = 0.578914339504236\n"
     ]
    }
   ],
   "source": [
    "from sklearn.metrics import precision_score, recall_score, accuracy_score, f1_score\n",
    "\n",
    "print(\"Precision = {}\".format(precision_score(y_test, y_pred, average='macro')))\n",
    "print(\"Recall = {}\".format(recall_score(y_test, y_pred, average='macro')))\n",
    "print(\"Accuracy = {}\".format(accuracy_score(y_test, y_pred)))\n",
    "print(\"F1 Score = {}\".format(f1_score(y_test, y_pred, average='micro')))"
   ]
  },
  {
   "cell_type": "markdown",
   "metadata": {},
   "source": [
    "### Making Predictions and Saving"
   ]
  },
  {
   "cell_type": "code",
   "execution_count": 96,
   "metadata": {},
   "outputs": [
    {
     "name": "stderr",
     "output_type": "stream",
     "text": [
      "/Library/Frameworks/Python.framework/Versions/3.6/lib/python3.6/site-packages/ipykernel_launcher.py:4: SettingWithCopyWarning: \n",
      "A value is trying to be set on a copy of a slice from a DataFrame.\n",
      "Try using .loc[row_indexer,col_indexer] = value instead\n",
      "\n",
      "See the caveats in the documentation: https://pandas.pydata.org/pandas-docs/stable/user_guide/indexing.html#returning-a-view-versus-a-copy\n",
      "  after removing the cwd from sys.path.\n"
     ]
    }
   ],
   "source": [
    "yhat_tree = model.predict(data_test_new)\n",
    "res_tree = le.inverse_transform(yhat_tree)\n",
    "dnew_tree = data_test\n",
    "dnew_tree['outcome_type'] = res_tree\n",
    "dnew_tree[['animal_id_outcome','outcome_type']].to_csv('model_4_XGB_tree_d_10.csv', index = False)"
   ]
  },
  {
   "cell_type": "markdown",
   "metadata": {},
   "source": [
    "## 5. ANN using Keras \n",
    "F1 score 46.35."
   ]
  },
  {
   "cell_type": "markdown",
   "metadata": {},
   "source": [
    "#### One hot Encoding Target Variable"
   ]
  },
  {
   "cell_type": "code",
   "execution_count": 97,
   "metadata": {},
   "outputs": [
    {
     "name": "stderr",
     "output_type": "stream",
     "text": [
      "Using TensorFlow backend.\n",
      "/Users/apple/Library/Python/3.6/lib/python/site-packages/tensorflow/python/framework/dtypes.py:526: FutureWarning: Passing (type, 1) or '1type' as a synonym of type is deprecated; in a future version of numpy, it will be understood as (type, (1,)) / '(1,)type'.\n",
      "  _np_qint8 = np.dtype([(\"qint8\", np.int8, 1)])\n",
      "/Users/apple/Library/Python/3.6/lib/python/site-packages/tensorflow/python/framework/dtypes.py:527: FutureWarning: Passing (type, 1) or '1type' as a synonym of type is deprecated; in a future version of numpy, it will be understood as (type, (1,)) / '(1,)type'.\n",
      "  _np_quint8 = np.dtype([(\"quint8\", np.uint8, 1)])\n",
      "/Users/apple/Library/Python/3.6/lib/python/site-packages/tensorflow/python/framework/dtypes.py:528: FutureWarning: Passing (type, 1) or '1type' as a synonym of type is deprecated; in a future version of numpy, it will be understood as (type, (1,)) / '(1,)type'.\n",
      "  _np_qint16 = np.dtype([(\"qint16\", np.int16, 1)])\n",
      "/Users/apple/Library/Python/3.6/lib/python/site-packages/tensorflow/python/framework/dtypes.py:529: FutureWarning: Passing (type, 1) or '1type' as a synonym of type is deprecated; in a future version of numpy, it will be understood as (type, (1,)) / '(1,)type'.\n",
      "  _np_quint16 = np.dtype([(\"quint16\", np.uint16, 1)])\n",
      "/Users/apple/Library/Python/3.6/lib/python/site-packages/tensorflow/python/framework/dtypes.py:530: FutureWarning: Passing (type, 1) or '1type' as a synonym of type is deprecated; in a future version of numpy, it will be understood as (type, (1,)) / '(1,)type'.\n",
      "  _np_qint32 = np.dtype([(\"qint32\", np.int32, 1)])\n",
      "/Users/apple/Library/Python/3.6/lib/python/site-packages/tensorflow/python/framework/dtypes.py:535: FutureWarning: Passing (type, 1) or '1type' as a synonym of type is deprecated; in a future version of numpy, it will be understood as (type, (1,)) / '(1,)type'.\n",
      "  np_resource = np.dtype([(\"resource\", np.ubyte, 1)])\n"
     ]
    }
   ],
   "source": [
    "from keras.utils import np_utils\n",
    "\n",
    "dummy_labels = np_utils.to_categorical(enc_labels)"
   ]
  },
  {
   "cell_type": "markdown",
   "metadata": {},
   "source": [
    "#### Defining Model"
   ]
  },
  {
   "cell_type": "code",
   "execution_count": 101,
   "metadata": {},
   "outputs": [],
   "source": [
    "from keras.models import Sequential \n",
    "from keras.layers import Dense\n",
    "from keras.optimizers import SGD\n",
    "from keras.layers import BatchNormalization\n",
    "\n",
    "\n",
    "# Create a dense layer with 8 neurons and input dimension 4 for the flatenned input x, IRIS dataset attributes.\n",
    "# we need to create a function that returns the model for the scikit-learn wrapper function estimator.\n",
    "\n",
    "def base_model():\n",
    "    model = Sequential()\n",
    "    model.add(BatchNormalization(input_shape=(14,)))\n",
    "    model.add(Dense(27, input_dim = 14, activation = 'relu'))\n",
    "    model.add(Dense(9, activation = 'softmax'))\n",
    "\n",
    "# Learning parameters using model.compile\n",
    "\n",
    "    model.compile(optimizer = 'adam',\n",
    "                 loss='categorical_crossentropy',\n",
    "                 metrics = ['accuracy'])\n",
    "    \n",
    "    #opt = SGD(lr=0.1)\n",
    "    #model.compile(loss = \"categorical_crossentropy\", optimizer = opt, metrics = ['accuracy'])\n",
    "    return model"
   ]
  },
  {
   "cell_type": "code",
   "execution_count": 102,
   "metadata": {},
   "outputs": [
    {
     "name": "stdout",
     "output_type": "stream",
     "text": [
      "WARNING:tensorflow:From /Users/apple/Library/Python/3.6/lib/python/site-packages/tensorflow/python/ops/math_ops.py:3066: to_int32 (from tensorflow.python.ops.math_ops) is deprecated and will be removed in a future version.\n",
      "Instructions for updating:\n",
      "Use tf.cast instead.\n",
      "Epoch 1/20\n",
      "47803/47803 [==============================] - 3s 65us/step - loss: 1.5751 - accuracy: 0.4905\n",
      "Epoch 2/20\n",
      "47803/47803 [==============================] - 2s 51us/step - loss: 1.4673 - accuracy: 0.5271\n",
      "Epoch 3/20\n",
      "47803/47803 [==============================] - 2s 51us/step - loss: 1.4533 - accuracy: 0.5271\n",
      "Epoch 4/20\n",
      "47803/47803 [==============================] - 2s 52us/step - loss: 1.4488 - accuracy: 0.5289\n",
      "Epoch 5/20\n",
      "47803/47803 [==============================] - 2s 52us/step - loss: 1.4438 - accuracy: 0.5311\n",
      "Epoch 6/20\n",
      "47803/47803 [==============================] - 3s 61us/step - loss: 1.4388 - accuracy: 0.5306\n",
      "Epoch 7/20\n",
      "47803/47803 [==============================] - 4s 82us/step - loss: 1.4390 - accuracy: 0.5311 2s - loss: 1.4351 - accuracy - ETA: 1s - loss: 1.4323 - ac\n",
      "Epoch 8/20\n",
      "47803/47803 [==============================] - 3s 65us/step - loss: 1.4360 - accuracy: 0.5336\n",
      "Epoch 9/20\n",
      "47803/47803 [==============================] - 3s 56us/step - loss: 1.4345 - accuracy: 0.5315\n",
      "Epoch 10/20\n",
      "47803/47803 [==============================] - 3s 52us/step - loss: 1.4327 - accuracy: 0.5330\n",
      "Epoch 11/20\n",
      "47803/47803 [==============================] - 3s 53us/step - loss: 1.4332 - accuracy: 0.5327\n",
      "Epoch 12/20\n",
      "47803/47803 [==============================] - 3s 59us/step - loss: 1.4308 - accuracy: 0.5335\n",
      "Epoch 13/20\n",
      "47803/47803 [==============================] - 3s 62us/step - loss: 1.4286 - accuracy: 0.5324\n",
      "Epoch 14/20\n",
      "47803/47803 [==============================] - 3s 53us/step - loss: 1.4259 - accuracy: 0.5355\n",
      "Epoch 15/20\n",
      "47803/47803 [==============================] - 2s 52us/step - loss: 1.4281 - accuracy: 0.5338\n",
      "Epoch 16/20\n",
      "47803/47803 [==============================] - 2s 52us/step - loss: 1.4269 - accuracy: 0.5359\n",
      "Epoch 17/20\n",
      "47803/47803 [==============================] - 3s 54us/step - loss: 1.4271 - accuracy: 0.5348\n",
      "Epoch 18/20\n",
      "47803/47803 [==============================] - 3s 53us/step - loss: 1.4253 - accuracy: 0.5353\n",
      "Epoch 19/20\n",
      "47803/47803 [==============================] - 3s 53us/step - loss: 1.4275 - accuracy: 0.5340\n",
      "Epoch 20/20\n",
      "47803/47803 [==============================] - 3s 53us/step - loss: 1.4247 - accuracy: 0.5334\n"
     ]
    },
    {
     "data": {
      "text/plain": [
       "<keras.callbacks.callbacks.History at 0x143809a90>"
      ]
     },
     "execution_count": 102,
     "metadata": {},
     "output_type": "execute_result"
    }
   ],
   "source": [
    "model_1 = base_model()\n",
    "\n",
    "model_1.fit(x,dummy_labels, batch_size=32, epochs=20)"
   ]
  },
  {
   "cell_type": "code",
   "execution_count": null,
   "metadata": {},
   "outputs": [],
   "source": [
    "yhat = model_1.predict_classes(y)\n",
    "res = le.inverse_transform(yhat)"
   ]
  },
  {
   "cell_type": "code",
   "execution_count": 105,
   "metadata": {},
   "outputs": [
    {
     "name": "stderr",
     "output_type": "stream",
     "text": [
      "/Library/Frameworks/Python.framework/Versions/3.6/lib/python3.6/site-packages/ipykernel_launcher.py:2: SettingWithCopyWarning: \n",
      "A value is trying to be set on a copy of a slice from a DataFrame.\n",
      "Try using .loc[row_indexer,col_indexer] = value instead\n",
      "\n",
      "See the caveats in the documentation: https://pandas.pydata.org/pandas-docs/stable/user_guide/indexing.html#returning-a-view-versus-a-copy\n",
      "  \n"
     ]
    }
   ],
   "source": [
    "dnew = data_test\n",
    "dnew['outcome_type'] = res\n",
    "dnew[['animal_id_outcome','outcome_type']].to_csv('model_5_ANN.csv', index = False)"
   ]
  }
 ],
 "metadata": {
  "kernelspec": {
   "display_name": "Python 3",
   "language": "python",
   "name": "python3"
  },
  "language_info": {
   "codemirror_mode": {
    "name": "ipython",
    "version": 3
   },
   "file_extension": ".py",
   "mimetype": "text/x-python",
   "name": "python",
   "nbconvert_exporter": "python",
   "pygments_lexer": "ipython3",
   "version": "3.6.4"
  }
 },
 "nbformat": 4,
 "nbformat_minor": 2
}
